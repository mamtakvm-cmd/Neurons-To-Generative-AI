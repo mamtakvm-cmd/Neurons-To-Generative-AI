{
 "cells": [
  {
   "cell_type": "markdown",
   "id": "d9911263",
   "metadata": {},
   "source": [
    "# Getting Started "
   ]
  },
  {
   "cell_type": "raw",
   "id": "665016c5",
   "metadata": {},
   "source": [
    "Module 0 - Overview\n",
    "Module 1 - Foundations of Artificial Intelligence\n",
    "Module 2 - Deep Learning & Neural Network Architectures\n",
    "Module 3 - Natural Language Processing\n",
    "Module 4 - Language Model Architectures\n",
    "Module 5 - Large Language Model (LLM)\n",
    "Module 6 - RAG and LangChain\n",
    "Module 7 - LLMs on Cloud - AWS, GCP, Azure\n",
    "Module 8 - Infrastructure, Implementation & Tools\n",
    "Module 9 - Business, Strategies & Stories\n",
    "Module 10 - Future Directions\n",
    "Module 11 - Profile/Personal Brand\n",
    "Bonus"
   ]
  },
  {
   "cell_type": "code",
   "execution_count": null,
   "id": "3cc2b597",
   "metadata": {},
   "outputs": [],
   "source": []
  }
 ],
 "metadata": {
  "kernelspec": {
   "display_name": "Python 3 (ipykernel)",
   "language": "python",
   "name": "python3"
  },
  "language_info": {
   "codemirror_mode": {
    "name": "ipython",
    "version": 3
   },
   "file_extension": ".py",
   "mimetype": "text/x-python",
   "name": "python",
   "nbconvert_exporter": "python",
   "pygments_lexer": "ipython3",
   "version": "3.11.3"
  }
 },
 "nbformat": 4,
 "nbformat_minor": 5
}
